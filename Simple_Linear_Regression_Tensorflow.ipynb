{
  "nbformat": 4,
  "nbformat_minor": 0,
  "metadata": {
    "colab": {
      "name": "Simple_Linear_Regression_Tensorflow.ipynb",
      "provenance": [],
      "collapsed_sections": []
    },
    "kernelspec": {
      "name": "python3",
      "display_name": "Python 3"
    },
    "language_info": {
      "name": "python"
    }
  },
  "cells": [
    {
      "cell_type": "code",
      "metadata": {
        "id": "I8xb8edmBLQf"
      },
      "source": [
        "import tensorflow as tf\n",
        "import numpy as np\n",
        "rnd = np.random"
      ],
      "execution_count": 1,
      "outputs": []
    },
    {
      "cell_type": "code",
      "metadata": {
        "id": "iNhzm2jIBdcC"
      },
      "source": [
        "learning_rate = 0.01\n",
        "training_steps = 1000\n",
        "display_step = 50"
      ],
      "execution_count": 14,
      "outputs": []
    },
    {
      "cell_type": "code",
      "metadata": {
        "id": "VhLWg59oBpQS"
      },
      "source": [
        "# Training Data.\n",
        "X = np.array([3.3,4.4,5.5,6.71,6.93,4.168,9.779,6.182,7.59,2.167,\n",
        "              7.042,10.791,5.313,7.997,5.654,9.27,3.1])\n",
        "Y = np.array([1.7,2.76,2.09,3.19,1.694,1.573,3.366,2.596,2.53,1.221,\n",
        "              2.827,3.465,1.65,2.904,2.42,2.94,1.3])"
      ],
      "execution_count": 15,
      "outputs": []
    },
    {
      "cell_type": "code",
      "metadata": {
        "id": "NuqPe4vhBuVh"
      },
      "source": [
        "# Weight and Bias, initialized randomly.\n",
        "W = tf.Variable(rnd.randn(), name=\"weight\")\n",
        "b = tf.Variable(rnd.randn(), name=\"bias\")"
      ],
      "execution_count": 16,
      "outputs": []
    },
    {
      "cell_type": "code",
      "metadata": {
        "id": "ueZXFBfUCG96"
      },
      "source": [
        "def linear_regression(x):\n",
        "  return W*x+b"
      ],
      "execution_count": 17,
      "outputs": []
    },
    {
      "cell_type": "code",
      "metadata": {
        "id": "gNpKgC9nDYoE"
      },
      "source": [
        "def mean_square(y_pred,y):\n",
        "  return tf.reduce_mean(tf.square(y_pred - y))"
      ],
      "execution_count": 18,
      "outputs": []
    },
    {
      "cell_type": "code",
      "metadata": {
        "id": "eN3OYB-7Dm41"
      },
      "source": [
        "optimizer = tf.optimizers.SGD(learning_rate)"
      ],
      "execution_count": 19,
      "outputs": []
    },
    {
      "cell_type": "code",
      "metadata": {
        "id": "as73FSl4Dqot"
      },
      "source": [
        "# Optimization process. \n",
        "def run_optimization():\n",
        "    # Wrap computation inside a GradientTape for automatic differentiation.\n",
        "    with tf.GradientTape() as g:\n",
        "        pred = linear_regression(X)\n",
        "        loss = mean_square(pred, Y)\n",
        "\n",
        "    # Compute gradients.\n",
        "    gradients = g.gradient(loss, [W, b])\n",
        "    \n",
        "    # Update W and b following gradients.\n",
        "    optimizer.apply_gradients(zip(gradients, [W, b]))"
      ],
      "execution_count": 20,
      "outputs": []
    },
    {
      "cell_type": "code",
      "metadata": {
        "colab": {
          "base_uri": "https://localhost:8080/"
        },
        "id": "lOF9tvegD2S4",
        "outputId": "bc8f4612-8dcc-4a13-b39d-7b13e1d32005"
      },
      "source": [
        "# Run training for the given number of steps.\n",
        "for step in range(1, training_steps + 1):\n",
        "    # Run the optimization to update W and b values.\n",
        "    run_optimization()\n",
        "    \n",
        "    if step % display_step == 0:\n",
        "        pred = linear_regression(X)\n",
        "        loss = mean_square(pred, Y)\n",
        "        print(\"step: %i, loss: %f, W: %f, b: %f\" % (step, loss, W.numpy(), b.numpy()))"
      ],
      "execution_count": 21,
      "outputs": [
        {
          "output_type": "stream",
          "text": [
            "step: 50, loss: 0.566992, W: -0.006039, b: 2.625592\n",
            "step: 100, loss: 0.477847, W: 0.023448, b: 2.416542\n",
            "step: 150, loss: 0.407938, W: 0.049561, b: 2.231413\n",
            "step: 200, loss: 0.353113, W: 0.072686, b: 2.067471\n",
            "step: 250, loss: 0.310119, W: 0.093164, b: 1.922290\n",
            "step: 300, loss: 0.276401, W: 0.111299, b: 1.793722\n",
            "step: 350, loss: 0.249959, W: 0.127358, b: 1.679867\n",
            "step: 400, loss: 0.229223, W: 0.141580, b: 1.579042\n",
            "step: 450, loss: 0.212961, W: 0.154174, b: 1.489754\n",
            "step: 500, loss: 0.200208, W: 0.165327, b: 1.410685\n",
            "step: 550, loss: 0.190207, W: 0.175204, b: 1.340663\n",
            "step: 600, loss: 0.182363, W: 0.183950, b: 1.278654\n",
            "step: 650, loss: 0.176212, W: 0.191696, b: 1.223742\n",
            "step: 700, loss: 0.171389, W: 0.198555, b: 1.175114\n",
            "step: 750, loss: 0.167606, W: 0.204629, b: 1.132050\n",
            "step: 800, loss: 0.164640, W: 0.210008, b: 1.093915\n",
            "step: 850, loss: 0.162313, W: 0.214772, b: 1.060143\n",
            "step: 900, loss: 0.160489, W: 0.218990, b: 1.030236\n",
            "step: 950, loss: 0.159058, W: 0.222726, b: 1.003752\n",
            "step: 1000, loss: 0.157936, W: 0.226034, b: 0.980298\n"
          ],
          "name": "stdout"
        }
      ]
    },
    {
      "cell_type": "code",
      "metadata": {
        "id": "KaD2BaW3D6vV"
      },
      "source": [
        "import matplotlib.pyplot as plt"
      ],
      "execution_count": 22,
      "outputs": []
    },
    {
      "cell_type": "code",
      "metadata": {
        "colab": {
          "base_uri": "https://localhost:8080/",
          "height": 265
        },
        "id": "Sx08OgEWKtbA",
        "outputId": "a5aa441e-9837-4a78-de64-3988921fb856"
      },
      "source": [
        "# Graphic display\n",
        "plt.plot(X, Y, 'ro', label='Original data')\n",
        "plt.plot(X, np.array(W * X + b), label='Fitted line')\n",
        "plt.legend()\n",
        "plt.show()"
      ],
      "execution_count": 23,
      "outputs": [
        {
          "output_type": "display_data",
          "data": {
            "image/png": "[encoded data removed]",
            "text/plain": [
              "<Figure size 432x288 with 1 Axes>"
            ]
          },
          "metadata": {
            "tags": [],
            "needs_background": "light"
          }
        }
      ]
    },
    {
      "cell_type": "code",
      "metadata": {
        "id": "hv_FoLMMKwJJ"
      },
      "source": [
        ""
      ],
      "execution_count": null,
      "outputs": []
    }
  ]
}